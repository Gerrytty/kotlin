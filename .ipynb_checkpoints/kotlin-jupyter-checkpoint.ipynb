{
 "cells": [
  {
   "cell_type": "code",
   "execution_count": 1,
   "id": "structural-spare",
   "metadata": {},
   "outputs": [
    {
     "data": {
      "text/html": [
       "   <div id=\"uUUXhr\"></div>\n",
       "   <script type=\"text/javascript\" data-lets-plot-script=\"library\">\n",
       "       if(!window.letsPlotCallQueue) {\n",
       "           window.letsPlotCallQueue = [];\n",
       "       }; \n",
       "       window.letsPlotCall = function(f) {\n",
       "           window.letsPlotCallQueue.push(f);\n",
       "       };\n",
       "       (function() {\n",
       "           var script = document.createElement(\"script\");\n",
       "           script.type = \"text/javascript\";\n",
       "           script.src = \"https://cdnjs.cloudflare.com/ajax/libs/lets-plot/2.0.2/lets-plot.min.js\";\n",
       "           script.onload = function() {\n",
       "               window.letsPlotCall = function(f) {f();};\n",
       "               window.letsPlotCallQueue.forEach(function(f) {f();});\n",
       "               window.letsPlotCallQueue = [];\n",
       "               \n",
       "               \n",
       "           };\n",
       "           script.onerror = function(event) {\n",
       "               window.letsPlotCall = function(f) {};\n",
       "               window.letsPlotCallQueue = [];\n",
       "               var div = document.createElement(\"div\");\n",
       "               div.style.color = 'darkred';\n",
       "               div.textContent = 'Error loading Lets-Plot JS';\n",
       "               document.getElementById(\"uUUXhr\").appendChild(div);\n",
       "           };\n",
       "           var e = document.getElementById(\"uUUXhr\");\n",
       "           e.appendChild(script);\n",
       "       })();\n",
       "   </script>"
      ]
     },
     "metadata": {},
     "output_type": "display_data"
    },
    {
     "data": {
      "text/html": [
       "   <div id=\"WiegVe\"></div>\n",
       "   <script type=\"text/javascript\" data-lets-plot-script=\"library\">\n",
       "       if(!window.letsPlotCallQueue) {\n",
       "           window.letsPlotCallQueue = [];\n",
       "       }; \n",
       "       window.letsPlotCall = function(f) {\n",
       "           window.letsPlotCallQueue.push(f);\n",
       "       };\n",
       "       (function() {\n",
       "           var script = document.createElement(\"script\");\n",
       "           script.type = \"text/javascript\";\n",
       "           script.src = \"https://cdnjs.cloudflare.com/ajax/libs/lets-plot/2.0.2/lets-plot.min.js\";\n",
       "           script.onload = function() {\n",
       "               window.letsPlotCall = function(f) {f();};\n",
       "               window.letsPlotCallQueue.forEach(function(f) {f();});\n",
       "               window.letsPlotCallQueue = [];\n",
       "               \n",
       "               \n",
       "           };\n",
       "           script.onerror = function(event) {\n",
       "               window.letsPlotCall = function(f) {};\n",
       "               window.letsPlotCallQueue = [];\n",
       "               var div = document.createElement(\"div\");\n",
       "               div.style.color = 'darkred';\n",
       "               div.textContent = 'Error loading Lets-Plot JS';\n",
       "               document.getElementById(\"WiegVe\").appendChild(div);\n",
       "           };\n",
       "           var e = document.getElementById(\"WiegVe\");\n",
       "           e.appendChild(script);\n",
       "       })();\n",
       "   </script>"
      ]
     },
     "metadata": {},
     "output_type": "display_data"
    }
   ],
   "source": [
    "%use klaxon(5.5), lets-plot, dataframe"
   ]
  },
  {
   "cell_type": "code",
   "execution_count": 2,
   "id": "designed-frederick",
   "metadata": {},
   "outputs": [],
   "source": [
    "val df = DataFrame.readCSV(\"/home/yuliya/Github/data-mining-course/DM1_lab/pima-indians-diabetes.csv\")"
   ]
  },
  {
   "cell_type": "code",
   "execution_count": 3,
   "id": "proof-motor",
   "metadata": {},
   "outputs": [
    {
     "data": {
      "text/html": [
       "<html><body><table><tr><th style=\"text-align:left\">Pregnancies</th><th style=\"text-align:left\">Glucose</th><th style=\"text-align:left\">BloodPressure</th><th style=\"text-align:left\">SkinThickness</th><th style=\"text-align:left\">Insulin</th><th style=\"text-align:left\">BMI</th><th style=\"text-align:left\">DiabetesPedigreeFunction</th><th style=\"text-align:left\">Age</th><th style=\"text-align:left\">Class</th></tr><tr><td style=\"text-align:left;\" title=\"6\">6</td><td style=\"text-align:left;\" title=\"148\">148</td><td style=\"text-align:left;\" title=\"72\">72</td><td style=\"text-align:left;\" title=\"35\">35</td><td style=\"text-align:left;\" title=\"0\">0</td><td style=\"text-align:left;\" title=\"33.600000\">33.600000</td><td style=\"text-align:left;\" title=\"0.627000\">0.627000</td><td style=\"text-align:left;\" title=\"50\">50</td><td style=\"text-align:left;\" title=\"1\">1</td></tr><tr><td style=\"text-align:left;\" title=\"1\">1</td><td style=\"text-align:left;\" title=\"85\">85</td><td style=\"text-align:left;\" title=\"66\">66</td><td style=\"text-align:left;\" title=\"29\">29</td><td style=\"text-align:left;\" title=\"0\">0</td><td style=\"text-align:left;\" title=\"26.600000\">26.600000</td><td style=\"text-align:left;\" title=\"0.351000\">0.351000</td><td style=\"text-align:left;\" title=\"31\">31</td><td style=\"text-align:left;\" title=\"0\">0</td></tr><tr><td style=\"text-align:left;\" title=\"8\">8</td><td style=\"text-align:left;\" title=\"183\">183</td><td style=\"text-align:left;\" title=\"64\">64</td><td style=\"text-align:left;\" title=\"0\">0</td><td style=\"text-align:left;\" title=\"0\">0</td><td style=\"text-align:left;\" title=\"23.300000\">23.300000</td><td style=\"text-align:left;\" title=\"0.672000\">0.672000</td><td style=\"text-align:left;\" title=\"32\">32</td><td style=\"text-align:left;\" title=\"1\">1</td></tr><tr><td style=\"text-align:left;\" title=\"1\">1</td><td style=\"text-align:left;\" title=\"89\">89</td><td style=\"text-align:left;\" title=\"66\">66</td><td style=\"text-align:left;\" title=\"23\">23</td><td style=\"text-align:left;\" title=\"94\">94</td><td style=\"text-align:left;\" title=\"28.100000\">28.100000</td><td style=\"text-align:left;\" title=\"0.167000\">0.167000</td><td style=\"text-align:left;\" title=\"21\">21</td><td style=\"text-align:left;\" title=\"0\">0</td></tr><tr><td style=\"text-align:left;\" title=\"0\">0</td><td style=\"text-align:left;\" title=\"137\">137</td><td style=\"text-align:left;\" title=\"40\">40</td><td style=\"text-align:left;\" title=\"35\">35</td><td style=\"text-align:left;\" title=\"168\">168</td><td style=\"text-align:left;\" title=\"43.100000\">43.100000</td><td style=\"text-align:left;\" title=\"2.288000\">2.288000</td><td style=\"text-align:left;\" title=\"33\">33</td><td style=\"text-align:left;\" title=\"1\">1</td></tr></table></body></html>"
      ]
     },
     "execution_count": 3,
     "metadata": {},
     "output_type": "execute_result"
    }
   ],
   "source": [
    "df.head(5)"
   ]
  },
  {
   "cell_type": "code",
   "execution_count": 12,
   "id": "prompt-cheese",
   "metadata": {},
   "outputs": [
    {
     "data": {
      "text/html": [
       "<html><body><table><tr><th style=\"text-align:left\">Pregnancies</th><th style=\"text-align:left\">Glucose</th><th style=\"text-align:left\">BloodPressure</th><th style=\"text-align:left\">SkinThickness</th><th style=\"text-align:left\">Insulin</th><th style=\"text-align:left\">BMI</th><th style=\"text-align:left\">DiabetesPedigreeFunction</th><th style=\"text-align:left\">Age</th><th style=\"text-align:left\">Class</th></tr><tr><td style=\"text-align:left;\" title=\"1\">1</td><td style=\"text-align:left;\" title=\"85\">85</td><td style=\"text-align:left;\" title=\"66\">66</td><td style=\"text-align:left;\" title=\"29\">29</td><td style=\"text-align:left;\" title=\"0\">0</td><td style=\"text-align:left;\" title=\"26.600000\">26.600000</td><td style=\"text-align:left;\" title=\"0.351000\">0.351000</td><td style=\"text-align:left;\" title=\"31\">31</td><td style=\"text-align:left;\" title=\"0\">0</td></tr><tr><td style=\"text-align:left;\" title=\"8\">8</td><td style=\"text-align:left;\" title=\"183\">183</td><td style=\"text-align:left;\" title=\"64\">64</td><td style=\"text-align:left;\" title=\"0\">0</td><td style=\"text-align:left;\" title=\"0\">0</td><td style=\"text-align:left;\" title=\"23.300000\">23.300000</td><td style=\"text-align:left;\" title=\"0.672000\">0.672000</td><td style=\"text-align:left;\" title=\"32\">32</td><td style=\"text-align:left;\" title=\"1\">1</td></tr><tr><td style=\"text-align:left;\" title=\"1\">1</td><td style=\"text-align:left;\" title=\"89\">89</td><td style=\"text-align:left;\" title=\"66\">66</td><td style=\"text-align:left;\" title=\"23\">23</td><td style=\"text-align:left;\" title=\"94\">94</td><td style=\"text-align:left;\" title=\"28.100000\">28.100000</td><td style=\"text-align:left;\" title=\"0.167000\">0.167000</td><td style=\"text-align:left;\" title=\"21\">21</td><td style=\"text-align:left;\" title=\"0\">0</td></tr><tr><td style=\"text-align:left;\" title=\"0\">0</td><td style=\"text-align:left;\" title=\"137\">137</td><td style=\"text-align:left;\" title=\"40\">40</td><td style=\"text-align:left;\" title=\"35\">35</td><td style=\"text-align:left;\" title=\"168\">168</td><td style=\"text-align:left;\" title=\"43.100000\">43.100000</td><td style=\"text-align:left;\" title=\"2.288000\">2.288000</td><td style=\"text-align:left;\" title=\"33\">33</td><td style=\"text-align:left;\" title=\"1\">1</td></tr><tr><td style=\"text-align:left;\" title=\"3\">3</td><td style=\"text-align:left;\" title=\"78\">78</td><td style=\"text-align:left;\" title=\"50\">50</td><td style=\"text-align:left;\" title=\"32\">32</td><td style=\"text-align:left;\" title=\"88\">88</td><td style=\"text-align:left;\" title=\"31.000000\">31.000000</td><td style=\"text-align:left;\" title=\"0.248000\">0.248000</td><td style=\"text-align:left;\" title=\"26\">26</td><td style=\"text-align:left;\" title=\"1\">1</td></tr><tr><td style=\"text-align:left;\" title=\"2\">2</td><td style=\"text-align:left;\" title=\"197\">197</td><td style=\"text-align:left;\" title=\"70\">70</td><td style=\"text-align:left;\" title=\"45\">45</td><td style=\"text-align:left;\" title=\"543\">543</td><td style=\"text-align:left;\" title=\"30.500000\">30.500000</td><td style=\"text-align:left;\" title=\"0.158000\">0.158000</td><td style=\"text-align:left;\" title=\"53\">53</td><td style=\"text-align:left;\" title=\"1\">1</td></tr><tr><td style=\"text-align:left;\" title=\"1\">1</td><td style=\"text-align:left;\" title=\"189\">189</td><td style=\"text-align:left;\" title=\"60\">60</td><td style=\"text-align:left;\" title=\"23\">23</td><td style=\"text-align:left;\" title=\"846\">846</td><td style=\"text-align:left;\" title=\"30.100000\">30.100000</td><td style=\"text-align:left;\" title=\"0.398000\">0.398000</td><td style=\"text-align:left;\" title=\"59\">59</td><td style=\"text-align:left;\" title=\"1\">1</td></tr><tr><td style=\"text-align:left;\" title=\"1\">1</td><td style=\"text-align:left;\" title=\"103\">103</td><td style=\"text-align:left;\" title=\"30\">30</td><td style=\"text-align:left;\" title=\"38\">38</td><td style=\"text-align:left;\" title=\"83\">83</td><td style=\"text-align:left;\" title=\"43.300000\">43.300000</td><td style=\"text-align:left;\" title=\"0.183000\">0.183000</td><td style=\"text-align:left;\" title=\"33\">33</td><td style=\"text-align:left;\" title=\"0\">0</td></tr><tr><td style=\"text-align:left;\" title=\"1\">1</td><td style=\"text-align:left;\" title=\"115\">115</td><td style=\"text-align:left;\" title=\"70\">70</td><td style=\"text-align:left;\" title=\"30\">30</td><td style=\"text-align:left;\" title=\"96\">96</td><td style=\"text-align:left;\" title=\"34.600000\">34.600000</td><td style=\"text-align:left;\" title=\"0.529000\">0.529000</td><td style=\"text-align:left;\" title=\"32\">32</td><td style=\"text-align:left;\" title=\"1\">1</td></tr><tr><td style=\"text-align:left;\" title=\"10\">10</td><td style=\"text-align:left;\" title=\"125\">125</td><td style=\"text-align:left;\" title=\"70\">70</td><td style=\"text-align:left;\" title=\"26\">26</td><td style=\"text-align:left;\" title=\"115\">115</td><td style=\"text-align:left;\" title=\"31.100000\">31.100000</td><td style=\"text-align:left;\" title=\"0.205000\">0.205000</td><td style=\"text-align:left;\" title=\"41\">41</td><td style=\"text-align:left;\" title=\"1\">1</td></tr><tr><td style=\"text-align:left;\" title=\"1\">1</td><td style=\"text-align:left;\" title=\"97\">97</td><td style=\"text-align:left;\" title=\"66\">66</td><td style=\"text-align:left;\" title=\"15\">15</td><td style=\"text-align:left;\" title=\"140\">140</td><td style=\"text-align:left;\" title=\"23.200000\">23.200000</td><td style=\"text-align:left;\" title=\"0.487000\">0.487000</td><td style=\"text-align:left;\" title=\"22\">22</td><td style=\"text-align:left;\" title=\"0\">0</td></tr><tr><td style=\"text-align:left;\" title=\"3\">3</td><td style=\"text-align:left;\" title=\"88\">88</td><td style=\"text-align:left;\" title=\"58\">58</td><td style=\"text-align:left;\" title=\"11\">11</td><td style=\"text-align:left;\" title=\"54\">54</td><td style=\"text-align:left;\" title=\"24.800000\">24.800000</td><td style=\"text-align:left;\" title=\"0.267000\">0.267000</td><td style=\"text-align:left;\" title=\"22\">22</td><td style=\"text-align:left;\" title=\"0\">0</td></tr><tr><td style=\"text-align:left;\" title=\"4\">4</td><td style=\"text-align:left;\" title=\"103\">103</td><td style=\"text-align:left;\" title=\"60\">60</td><td style=\"text-align:left;\" title=\"33\">33</td><td style=\"text-align:left;\" title=\"192\">192</td><td style=\"text-align:left;\" title=\"24.000000\">24.000000</td><td style=\"text-align:left;\" title=\"0.966000\">0.966000</td><td style=\"text-align:left;\" title=\"33\">33</td><td style=\"text-align:left;\" title=\"0\">0</td></tr><tr><td style=\"text-align:left;\" title=\"2\">2</td><td style=\"text-align:left;\" title=\"90\">90</td><td style=\"text-align:left;\" title=\"68\">68</td><td style=\"text-align:left;\" title=\"42\">42</td><td style=\"text-align:left;\" title=\"0\">0</td><td style=\"text-align:left;\" title=\"38.200000\">38.200000</td><td style=\"text-align:left;\" title=\"0.503000\">0.503000</td><td style=\"text-align:left;\" title=\"27\">27</td><td style=\"text-align:left;\" title=\"1\">1</td></tr><tr><td style=\"text-align:left;\" title=\"3\">3</td><td style=\"text-align:left;\" title=\"180\">180</td><td style=\"text-align:left;\" title=\"64\">64</td><td style=\"text-align:left;\" title=\"25\">25</td><td style=\"text-align:left;\" title=\"70\">70</td><td style=\"text-align:left;\" title=\"34.000000\">34.000000</td><td style=\"text-align:left;\" title=\"0.271000\">0.271000</td><td style=\"text-align:left;\" title=\"26\">26</td><td style=\"text-align:left;\" title=\"0\">0</td></tr><tr><td style=\"text-align:left;\" title=\"7\">7</td><td style=\"text-align:left;\" title=\"159\">159</td><td style=\"text-align:left;\" title=\"64\">64</td><td style=\"text-align:left;\" title=\"0\">0</td><td style=\"text-align:left;\" title=\"0\">0</td><td style=\"text-align:left;\" title=\"27.400000\">27.400000</td><td style=\"text-align:left;\" title=\"0.294000\">0.294000</td><td style=\"text-align:left;\" title=\"40\">40</td><td style=\"text-align:left;\" title=\"0\">0</td></tr><tr><td style=\"text-align:left;\" title=\"0\">0</td><td style=\"text-align:left;\" title=\"180\">180</td><td style=\"text-align:left;\" title=\"66\">66</td><td style=\"text-align:left;\" title=\"39\">39</td><td style=\"text-align:left;\" title=\"0\">0</td><td style=\"text-align:left;\" title=\"42.000000\">42.000000</td><td style=\"text-align:left;\" title=\"1.893000\">1.893000</td><td style=\"text-align:left;\" title=\"25\">25</td><td style=\"text-align:left;\" title=\"1\">1</td></tr><tr><td style=\"text-align:left;\" title=\"1\">1</td><td style=\"text-align:left;\" title=\"146\">146</td><td style=\"text-align:left;\" title=\"56\">56</td><td style=\"text-align:left;\" title=\"0\">0</td><td style=\"text-align:left;\" title=\"0\">0</td><td style=\"text-align:left;\" title=\"29.700000\">29.700000</td><td style=\"text-align:left;\" title=\"0.564000\">0.564000</td><td style=\"text-align:left;\" title=\"29\">29</td><td style=\"text-align:left;\" title=\"0\">0</td></tr><tr><td style=\"text-align:left;\" title=\"2\">2</td><td style=\"text-align:left;\" title=\"71\">71</td><td style=\"text-align:left;\" title=\"70\">70</td><td style=\"text-align:left;\" title=\"27\">27</td><td style=\"text-align:left;\" title=\"0\">0</td><td style=\"text-align:left;\" title=\"28.000000\">28.000000</td><td style=\"text-align:left;\" title=\"0.586000\">0.586000</td><td style=\"text-align:left;\" title=\"22\">22</td><td style=\"text-align:left;\" title=\"0\">0</td></tr><tr><td style=\"text-align:left;\" title=\"7\">7</td><td style=\"text-align:left;\" title=\"103\">103</td><td style=\"text-align:left;\" title=\"66\">66</td><td style=\"text-align:left;\" title=\"32\">32</td><td style=\"text-align:left;\" title=\"0\">0</td><td style=\"text-align:left;\" title=\"39.100000\">39.100000</td><td style=\"text-align:left;\" title=\"0.344000\">0.344000</td><td style=\"text-align:left;\" title=\"31\">31</td><td style=\"text-align:left;\" title=\"1\">1</td></tr></table><p>... only showing top 20 of 340 rows</p></body></html>"
      ]
     },
     "execution_count": 12,
     "metadata": {},
     "output_type": "execute_result"
    }
   ],
   "source": [
    "df.filter { it[\"BloodPressure\"] in 20..70 }"
   ]
  },
  {
   "cell_type": "code",
   "execution_count": 7,
   "id": "geographic-practice",
   "metadata": {},
   "outputs": [
    {
     "data": {
      "text/plain": [
       "9"
      ]
     },
     "execution_count": 7,
     "metadata": {},
     "output_type": "execute_result"
    }
   ],
   "source": [
    "df.ncol()"
   ]
  },
  {
   "cell_type": "code",
   "execution_count": 8,
   "id": "fifteen-lottery",
   "metadata": {},
   "outputs": [
    {
     "data": {
      "text/plain": [
       "768"
      ]
     },
     "execution_count": 8,
     "metadata": {},
     "output_type": "execute_result"
    }
   ],
   "source": [
    "df.nrow()"
   ]
  },
  {
   "cell_type": "code",
   "execution_count": 13,
   "id": "textile-daisy",
   "metadata": {},
   "outputs": [],
   "source": [
    "val df2 = dataFrameOf(\"name\", \"age\")(\n",
    "    \"Alice\", 20,\n",
    "    \"Bob\", null)"
   ]
  },
  {
   "cell_type": "code",
   "execution_count": 14,
   "id": "expressed-valentine",
   "metadata": {},
   "outputs": [
    {
     "data": {
      "text/html": [
       "<html><body><table><tr><th style=\"text-align:left\">name</th><th style=\"text-align:left\">age</th></tr><tr><td style=\"text-align:left;\" title=\"Alice\">Alice</td><td style=\"text-align:left;\" title=\"20\">20</td></tr><tr><td style=\"text-align:left;\" title=\"Bob\">Bob</td><td style=\"text-align:left;\" title=\"null\">null</td></tr></table></body></html>"
      ]
     },
     "execution_count": 14,
     "metadata": {},
     "output_type": "execute_result"
    }
   ],
   "source": [
    "df2"
   ]
  },
  {
   "cell_type": "code",
   "execution_count": 15,
   "id": "warming-arlington",
   "metadata": {},
   "outputs": [],
   "source": [
    "val cleaned = df2.filter { age != null }"
   ]
  },
  {
   "cell_type": "code",
   "execution_count": 16,
   "id": "romance-label",
   "metadata": {},
   "outputs": [
    {
     "data": {
      "text/html": [
       "<html><body><table><tr><th style=\"text-align:left\">name</th><th style=\"text-align:left\">age</th></tr><tr><td style=\"text-align:left;\" title=\"Alice\">Alice</td><td style=\"text-align:left;\" title=\"20\">20</td></tr></table></body></html>"
      ]
     },
     "execution_count": 16,
     "metadata": {},
     "output_type": "execute_result"
    }
   ],
   "source": [
    "cleaned"
   ]
  },
  {
   "cell_type": "code",
   "execution_count": 17,
   "id": "desirable-pension",
   "metadata": {},
   "outputs": [],
   "source": [
    "df2.writeCSV(\"output.csv\")"
   ]
  },
  {
   "cell_type": "code",
   "execution_count": 23,
   "id": "pressing-possible",
   "metadata": {},
   "outputs": [],
   "source": [
    "@DataSchema\n",
    "interface Person {\n",
    "    val name: String\n",
    "    val age: Int \n",
    "}\n",
    "\n",
    "fun DataFrame<Person>.countAdults() = count { it[Person::age] > 18 }"
   ]
  },
  {
   "cell_type": "code",
   "execution_count": 24,
   "id": "tested-notion",
   "metadata": {},
   "outputs": [],
   "source": [
    "val df3 = dataFrameOf(\"name\", \"age\")(\n",
    "            \"Alice\", 15,\n",
    "            \"Bob\", 20)"
   ]
  },
  {
   "cell_type": "code",
   "execution_count": 25,
   "id": "amazing-destiny",
   "metadata": {},
   "outputs": [
    {
     "data": {
      "text/plain": [
       "1"
      ]
     },
     "execution_count": 25,
     "metadata": {},
     "output_type": "execute_result"
    }
   ],
   "source": [
    "df3.countAdults()"
   ]
  }
 ],
 "metadata": {
  "kernelspec": {
   "display_name": "Kotlin",
   "language": "kotlin",
   "name": "kotlin"
  },
  "language_info": {
   "codemirror_mode": "text/x-kotlin",
   "file_extension": ".kt",
   "mimetype": "text/x-kotlin",
   "name": "kotlin",
   "nbconvert_exporter": "",
   "pygments_lexer": "kotlin",
   "version": "1.5.30-dev-598"
  }
 },
 "nbformat": 4,
 "nbformat_minor": 5
}
