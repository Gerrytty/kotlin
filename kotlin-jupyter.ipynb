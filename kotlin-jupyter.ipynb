{
 "cells": [
  {
   "cell_type": "code",
   "execution_count": 7,
   "id": "structural-spare",
   "metadata": {},
   "outputs": [
    {
     "data": {
      "text/html": [
       "   <div id=\"kF6xvk\"></div>\n",
       "   <script type=\"text/javascript\" data-lets-plot-script=\"library\">\n",
       "       if(!window.letsPlotCallQueue) {\n",
       "           window.letsPlotCallQueue = [];\n",
       "       }; \n",
       "       window.letsPlotCall = function(f) {\n",
       "           window.letsPlotCallQueue.push(f);\n",
       "       };\n",
       "       (function() {\n",
       "           var script = document.createElement(\"script\");\n",
       "           script.type = \"text/javascript\";\n",
       "           script.src = \"https://cdnjs.cloudflare.com/ajax/libs/lets-plot/2.0.2/lets-plot.min.js\";\n",
       "           script.onload = function() {\n",
       "               window.letsPlotCall = function(f) {f();};\n",
       "               window.letsPlotCallQueue.forEach(function(f) {f();});\n",
       "               window.letsPlotCallQueue = [];\n",
       "               \n",
       "               \n",
       "           };\n",
       "           script.onerror = function(event) {\n",
       "               window.letsPlotCall = function(f) {};\n",
       "               window.letsPlotCallQueue = [];\n",
       "               var div = document.createElement(\"div\");\n",
       "               div.style.color = 'darkred';\n",
       "               div.textContent = 'Error loading Lets-Plot JS';\n",
       "               document.getElementById(\"kF6xvk\").appendChild(div);\n",
       "           };\n",
       "           var e = document.getElementById(\"kF6xvk\");\n",
       "           e.appendChild(script);\n",
       "       })();\n",
       "   </script>"
      ]
     },
     "metadata": {},
     "output_type": "display_data"
    }
   ],
   "source": [
    "%use klaxon(5.5), lets-plot"
   ]
  },
  {
   "cell_type": "code",
   "execution_count": 8,
   "id": "worth-academy",
   "metadata": {},
   "outputs": [
    {
     "data": {
      "text/html": [
       "   <div id=\"3YT8eF\"></div>\n",
       "   <script type=\"text/javascript\" data-lets-plot-script=\"library\">\n",
       "       if(!window.letsPlotCallQueue) {\n",
       "           window.letsPlotCallQueue = [];\n",
       "       }; \n",
       "       window.letsPlotCall = function(f) {\n",
       "           window.letsPlotCallQueue.push(f);\n",
       "       };\n",
       "       (function() {\n",
       "           var script = document.createElement(\"script\");\n",
       "           script.type = \"text/javascript\";\n",
       "           script.src = \"https://cdnjs.cloudflare.com/ajax/libs/lets-plot/2.0.2/lets-plot.min.js\";\n",
       "           script.onload = function() {\n",
       "               window.letsPlotCall = function(f) {f();};\n",
       "               window.letsPlotCallQueue.forEach(function(f) {f();});\n",
       "               window.letsPlotCallQueue = [];\n",
       "               \n",
       "               \n",
       "           };\n",
       "           script.onerror = function(event) {\n",
       "               window.letsPlotCall = function(f) {};\n",
       "               window.letsPlotCallQueue = [];\n",
       "               var div = document.createElement(\"div\");\n",
       "               div.style.color = 'darkred';\n",
       "               div.textContent = 'Error loading Lets-Plot JS';\n",
       "               document.getElementById(\"3YT8eF\").appendChild(div);\n",
       "           };\n",
       "           var e = document.getElementById(\"3YT8eF\");\n",
       "           e.appendChild(script);\n",
       "       })();\n",
       "   </script>"
      ]
     },
     "metadata": {},
     "output_type": "display_data"
    }
   ],
   "source": [
    "%use dataframe"
   ]
  },
  {
   "cell_type": "code",
   "execution_count": 9,
   "id": "designed-frederick",
   "metadata": {},
   "outputs": [],
   "source": [
    "val df = DataFrame.readCSV(\"/home/yuliya/Github/data-mining-course/DM1_lab/pima-indians-diabetes.csv\")"
   ]
  },
  {
   "cell_type": "code",
   "execution_count": 10,
   "id": "proof-motor",
   "metadata": {},
   "outputs": [
    {
     "data": {
      "text/html": [
       "<html><body><table><tr><th style=\"text-align:left\">Pregnancies</th><th style=\"text-align:left\">Glucose</th><th style=\"text-align:left\">BloodPressure</th><th style=\"text-align:left\">SkinThickness</th><th style=\"text-align:left\">Insulin</th><th style=\"text-align:left\">BMI</th><th style=\"text-align:left\">DiabetesPedigreeFunction</th><th style=\"text-align:left\">Age</th><th style=\"text-align:left\">Class</th></tr><tr><td style=\"text-align:left;\" title=\"6\">6</td><td style=\"text-align:left;\" title=\"148\">148</td><td style=\"text-align:left;\" title=\"72\">72</td><td style=\"text-align:left;\" title=\"35\">35</td><td style=\"text-align:left;\" title=\"0\">0</td><td style=\"text-align:left;\" title=\"33.600000\">33.600000</td><td style=\"text-align:left;\" title=\"0.627000\">0.627000</td><td style=\"text-align:left;\" title=\"50\">50</td><td style=\"text-align:left;\" title=\"1\">1</td></tr><tr><td style=\"text-align:left;\" title=\"1\">1</td><td style=\"text-align:left;\" title=\"85\">85</td><td style=\"text-align:left;\" title=\"66\">66</td><td style=\"text-align:left;\" title=\"29\">29</td><td style=\"text-align:left;\" title=\"0\">0</td><td style=\"text-align:left;\" title=\"26.600000\">26.600000</td><td style=\"text-align:left;\" title=\"0.351000\">0.351000</td><td style=\"text-align:left;\" title=\"31\">31</td><td style=\"text-align:left;\" title=\"0\">0</td></tr><tr><td style=\"text-align:left;\" title=\"8\">8</td><td style=\"text-align:left;\" title=\"183\">183</td><td style=\"text-align:left;\" title=\"64\">64</td><td style=\"text-align:left;\" title=\"0\">0</td><td style=\"text-align:left;\" title=\"0\">0</td><td style=\"text-align:left;\" title=\"23.300000\">23.300000</td><td style=\"text-align:left;\" title=\"0.672000\">0.672000</td><td style=\"text-align:left;\" title=\"32\">32</td><td style=\"text-align:left;\" title=\"1\">1</td></tr><tr><td style=\"text-align:left;\" title=\"1\">1</td><td style=\"text-align:left;\" title=\"89\">89</td><td style=\"text-align:left;\" title=\"66\">66</td><td style=\"text-align:left;\" title=\"23\">23</td><td style=\"text-align:left;\" title=\"94\">94</td><td style=\"text-align:left;\" title=\"28.100000\">28.100000</td><td style=\"text-align:left;\" title=\"0.167000\">0.167000</td><td style=\"text-align:left;\" title=\"21\">21</td><td style=\"text-align:left;\" title=\"0\">0</td></tr><tr><td style=\"text-align:left;\" title=\"0\">0</td><td style=\"text-align:left;\" title=\"137\">137</td><td style=\"text-align:left;\" title=\"40\">40</td><td style=\"text-align:left;\" title=\"35\">35</td><td style=\"text-align:left;\" title=\"168\">168</td><td style=\"text-align:left;\" title=\"43.100000\">43.100000</td><td style=\"text-align:left;\" title=\"2.288000\">2.288000</td><td style=\"text-align:left;\" title=\"33\">33</td><td style=\"text-align:left;\" title=\"1\">1</td></tr></table></body></html>"
      ]
     },
     "execution_count": 10,
     "metadata": {},
     "output_type": "execute_result"
    }
   ],
   "source": [
    "df.head(5)"
   ]
  }
 ],
 "metadata": {
  "kernelspec": {
   "display_name": "Kotlin",
   "language": "kotlin",
   "name": "kotlin"
  },
  "language_info": {
   "codemirror_mode": "text/x-kotlin",
   "file_extension": ".kt",
   "mimetype": "text/x-kotlin",
   "name": "kotlin",
   "nbconvert_exporter": "",
   "pygments_lexer": "kotlin",
   "version": "1.5.30-dev-598"
  }
 },
 "nbformat": 4,
 "nbformat_minor": 5
}
